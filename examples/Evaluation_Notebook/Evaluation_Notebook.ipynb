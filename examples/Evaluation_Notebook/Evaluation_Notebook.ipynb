{
 "cells": [
  {
   "cell_type": "markdown",
   "metadata": {},
   "source": [
    "# Example Notebook for evaluation of FIRESTARTER optimization results"
   ]
  },
  {
   "cell_type": "code",
   "execution_count": null,
   "metadata": {},
   "outputs": [],
   "source": [
    "import json\n",
    "import pandas as pd\n",
    "import seaborn as sns\n",
    "import numpy as np\n",
    "import matplotlib.pyplot as plt"
   ]
  },
  {
   "cell_type": "markdown",
   "metadata": {},
   "source": [
    "#### Defining the used metrics"
   ]
  },
  {
   "cell_type": "code",
   "execution_count": null,
   "metadata": {},
   "outputs": [],
   "source": [
    "POWER = 'sysfs-powercap-rapl'\n",
    "IPC = 'perf-ipc'\n",
    "IPC_2 = 'ipc-estimate'\n",
    "FREQ = 'perf-freq'\n",
    "ITEMS = [POWER, IPC, IPC_2, FREQ]"
   ]
  },
  {
   "cell_type": "markdown",
   "metadata": {},
   "source": [
    "#### Read the json output of FIRESTARTER"
   ]
  },
  {
   "cell_type": "code",
   "execution_count": null,
   "metadata": {},
   "outputs": [],
   "source": [
    "with open('testmachine_DATETIME.json', 'r') as fp:\n",
    "    data = json.loads(fp.read())\n",
    "    startTime = data['startTime']\n",
    "    del data['startTime']\n",
    "    endTime = data['endTime']\n",
    "    del data['endTime']\n",
    "    args = data['args']\n",
    "    del data['args']\n",
    "    hostname = data['hostname']\n",
    "    del data['hostname']\n",
    "    payloadItems = data['payloadItems']\n",
    "    del data['payloadItems']\n",
    "df = pd.DataFrame(data)\n",
    "\n",
    "print(f\"Evaluating FIRESTARTER run on {hostname} from {startTime} to {endTime} with args: {args}\")"
   ]
  },
  {
   "cell_type": "code",
   "execution_count": null,
   "metadata": {},
   "outputs": [],
   "source": [
    "for v in ITEMS:\n",
    "    df[v] = df['metrics'].apply(lambda arr: round(arr[v]['average'], 2))\n",
    "    \n",
    "df = df.drop(columns=['metrics'])\n",
    "df"
   ]
  },
  {
   "cell_type": "code",
   "execution_count": null,
   "metadata": {},
   "outputs": [],
   "source": [
    "fig, (ax1, ax2, ax3) = plt.subplots(1, 3, figsize=(18,6))\n",
    "\n",
    "p = sns.scatterplot(data=df, x=FREQ, y=POWER, hue=range(len(df)), ax=ax1)\n",
    "p.set_xlim(0)\n",
    "p.invert_xaxis()\n",
    "\n",
    "p = sns.scatterplot(data=df, x=POWER, y=IPC, hue=range(len(df)), ax=ax2)\n",
    "p.set_ylim(0)\n",
    "\n",
    "p = sns.scatterplot(data=df, x=FREQ, y=IPC, hue=range(len(df)), ax=ax3)\n",
    "p.set_xlim(0)\n",
    "p.invert_xaxis()\n",
    "p.set_ylim(0)"
   ]
  },
  {
   "cell_type": "markdown",
   "metadata": {},
   "source": [
    "#### This shows the correlation between the perf-ipc and ipc-estimate metric"
   ]
  },
  {
   "cell_type": "code",
   "execution_count": null,
   "metadata": {},
   "outputs": [],
   "source": [
    "p = sns.scatterplot(data=df, x=IPC, y=IPC_2, hue=range(len(df)))"
   ]
  },
  {
   "cell_type": "markdown",
   "metadata": {},
   "source": [
    "#### Show the evaluated individuals sorted by Power"
   ]
  },
  {
   "cell_type": "code",
   "execution_count": null,
   "metadata": {},
   "outputs": [],
   "source": [
    "df.sort_values(by=POWER, ascending=False)"
   ]
  },
  {
   "cell_type": "code",
   "execution_count": null,
   "metadata": {},
   "outputs": [],
   "source": [
    "def generate_run_instruction_groups_str(items: str, ind: [int]) -> str:\n",
    "    z = zip(items, ind)\n",
    "    z = filter(lambda v: v[1] != 0, z)\n",
    "    z = map(lambda v: v[0] + \":\" + str(v[1]), z)\n",
    "    return ','.join(z)"
   ]
  },
  {
   "cell_type": "code",
   "execution_count": null,
   "metadata": {},
   "outputs": [],
   "source": [
    "best = df.sort_values(by=POWER, ascending=False)['individuals'].tolist()[0]\n",
    "print(f\"\"\"To run FIRESTARTER with the best individual of metric {POWER} use the command line argument\n",
    "--run-instruction-groups={generate_run_instruction_groups_str(payloadItems, best)}\"\"\")"
   ]
  }
 ],
 "metadata": {
  "kernelspec": {
   "display_name": "Python 3",
   "language": "python",
   "name": "python3"
  },
  "language_info": {
   "codemirror_mode": {
    "name": "ipython",
    "version": 3
   },
   "file_extension": ".py",
   "mimetype": "text/x-python",
   "name": "python",
   "nbconvert_exporter": "python",
   "pygments_lexer": "ipython3",
   "version": "3.7.9"
  }
 },
 "nbformat": 4,
 "nbformat_minor": 4
}

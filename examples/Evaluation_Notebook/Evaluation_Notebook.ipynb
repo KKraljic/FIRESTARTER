{
 "cells": [
  {
   "cell_type": "code",
   "execution_count": null,
   "metadata": {},
   "outputs": [],
   "source": [
    "import json\n",
    "import pandas as pd\n",
    "import seaborn as sns\n",
    "import numpy as np\n",
    "import matplotlib.pyplot as plt"
   ]
  },
  {
   "cell_type": "code",
   "execution_count": null,
   "metadata": {},
   "outputs": [],
   "source": [
    "POWER = 'sysfs-powercap-rapl'\n",
    "IPC = 'perf-ipc'\n",
    "IPC_2 = 'ipc-estimate'\n",
    "FREQ = 'perf-freq'\n",
    "ITEMS = [POWER, IPC, IPC_2, FREQ]"
   ]
  },
  {
   "cell_type": "code",
   "execution_count": null,
   "metadata": {},
   "outputs": [],
   "source": [
    "with open('testmachine_DATETIME.json', 'r') as fp:\n",
    "    data = json.loads(fp.read())\n",
    "    del data['startTime']\n",
    "    del data['endTime']\n",
    "    del data['args']\n",
    "    del data['hostname']\n",
    "df = pd.DataFrame(data)"
   ]
  },
  {
   "cell_type": "code",
   "execution_count": null,
   "metadata": {},
   "outputs": [],
   "source": [
    "for v in ITEMS:\n",
    "    df[v] = df['metrics'].apply(lambda arr: round(arr[v]['average'], 2))\n",
    "    \n",
    "df = df.drop(columns=['metrics'])\n",
    "df"
   ]
  },
  {
   "cell_type": "code",
   "execution_count": null,
   "metadata": {},
   "outputs": [],
   "source": [
    "fig, (ax1, ax2, ax3) = plt.subplots(1, 3, figsize=(18,6))\n",
    "\n",
    "p = sns.scatterplot(data=df, x=FREQ, y=POWER, hue=range(len(df)), ax=ax1)\n",
    "p.set_xlim(0)\n",
    "p.invert_xaxis()\n",
    "\n",
    "p = sns.scatterplot(data=df, x=POWER, y=IPC, hue=range(len(df)), ax=ax2)\n",
    "p.set_ylim(0)\n",
    "\n",
    "p = sns.scatterplot(data=df, x=FREQ, y=IPC, hue=range(len(df)), ax=ax3)\n",
    "p.set_xlim(0)\n",
    "p.invert_xaxis()\n",
    "p.set_ylim(0)"
   ]
  },
  {
   "cell_type": "code",
   "execution_count": null,
   "metadata": {},
   "outputs": [],
   "source": [
    "p = sns.scatterplot(data=df, x=IPC, y=IPC_2, hue=range(len(df)))"
   ]
  },
  {
   "cell_type": "code",
   "execution_count": null,
   "metadata": {},
   "outputs": [],
   "source": [
    "df.sort_values(by=POWER, ascending=False)"
   ]
  }
 ],
 "metadata": {
  "kernelspec": {
   "display_name": "Python 3",
   "language": "python",
   "name": "python3"
  },
  "language_info": {
   "codemirror_mode": {
    "name": "ipython",
    "version": 3
   },
   "file_extension": ".py",
   "mimetype": "text/x-python",
   "name": "python",
   "nbconvert_exporter": "python",
   "pygments_lexer": "ipython3",
   "version": "3.7.9"
  }
 },
 "nbformat": 4,
 "nbformat_minor": 4
}
